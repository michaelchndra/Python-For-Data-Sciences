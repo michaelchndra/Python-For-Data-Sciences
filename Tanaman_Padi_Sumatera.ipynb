{
  "cells": [
    {
      "cell_type": "markdown",
      "metadata": {
        "id": "view-in-github",
        "colab_type": "text"
      },
      "source": [
        "<a href=\"https://colab.research.google.com/github/michaelchndra/Python-For-Data-Sciences/blob/main/Tanaman_Padi_Sumatera.ipynb\" target=\"_parent\"><img src=\"https://colab.research.google.com/assets/colab-badge.svg\" alt=\"Open In Colab\"/></a>"
      ]
    },
    {
      "cell_type": "code",
      "execution_count": null,
      "id": "d512bb68",
      "metadata": {
        "_cell_guid": "b1076dfc-b9ad-4769-8c92-a6c4dae69d19",
        "_uuid": "8f2839f25d086af736a60e9eeb907d3b93b6e0e5",
        "execution": {
          "iopub.execute_input": "2024-01-17T13:09:21.959271Z",
          "iopub.status.busy": "2024-01-17T13:09:21.958188Z",
          "iopub.status.idle": "2024-01-17T13:09:23.727132Z",
          "shell.execute_reply": "2024-01-17T13:09:23.726059Z"
        },
        "papermill": {
          "duration": 1.778715,
          "end_time": "2024-01-17T13:09:23.729484",
          "exception": false,
          "start_time": "2024-01-17T13:09:21.950769",
          "status": "completed"
        },
        "tags": [],
        "id": "d512bb68",
        "outputId": "d1e16ef9-7df9-4565-b982-e6a5f6bbd8a0"
      },
      "outputs": [
        {
          "name": "stdout",
          "output_type": "stream",
          "text": [
            "/kaggle/input/datasettanamanpadisumatera/Data_Tanaman_Padi_Sumatera_version_1.csv\n"
          ]
        }
      ],
      "source": [
        "import pandas as pd\n",
        "import numpy as np\n",
        "import matplotlib.pyplot as plt\n",
        "import seaborn as sns\n",
        "import os\n",
        "\n",
        "#memanggil source dataset dari kaggle\n",
        "for dirname, _, filenames in os.walk ('/kaggle/input'):\n",
        "    for filename in filenames:\n",
        "        print (os.path.join(dirname,filename))"
      ]
    },
    {
      "cell_type": "code",
      "execution_count": null,
      "id": "028da055",
      "metadata": {
        "execution": {
          "iopub.execute_input": "2024-01-17T13:09:23.740571Z",
          "iopub.status.busy": "2024-01-17T13:09:23.740012Z",
          "iopub.status.idle": "2024-01-17T13:09:23.757906Z",
          "shell.execute_reply": "2024-01-17T13:09:23.756605Z"
        },
        "papermill": {
          "duration": 0.026725,
          "end_time": "2024-01-17T13:09:23.760901",
          "exception": false,
          "start_time": "2024-01-17T13:09:23.734176",
          "status": "completed"
        },
        "tags": [],
        "id": "028da055"
      },
      "outputs": [],
      "source": [
        "#melakukan eksplorasi dataset\n",
        "df = pd.read_csv('/kaggle/input/datasettanamanpadisumatera/Data_Tanaman_Padi_Sumatera_version_1.csv')"
      ]
    },
    {
      "cell_type": "code",
      "execution_count": null,
      "id": "a6930313",
      "metadata": {
        "execution": {
          "iopub.execute_input": "2024-01-17T13:09:23.771375Z",
          "iopub.status.busy": "2024-01-17T13:09:23.770995Z",
          "iopub.status.idle": "2024-01-17T13:09:23.786844Z",
          "shell.execute_reply": "2024-01-17T13:09:23.785720Z"
        },
        "papermill": {
          "duration": 0.024162,
          "end_time": "2024-01-17T13:09:23.789479",
          "exception": false,
          "start_time": "2024-01-17T13:09:23.765317",
          "status": "completed"
        },
        "tags": [],
        "id": "a6930313",
        "outputId": "06a65b96-f65d-4291-f6b5-c6c8b1416914"
      },
      "outputs": [
        {
          "data": {
            "text/plain": [
              "Provinsi           object\n",
              "Tahun               int64\n",
              "Produksi          float64\n",
              "Luas Panen        float64\n",
              "Curah hujan       float64\n",
              "Kelembapan        float64\n",
              "Suhu rata-rata    float64\n",
              "dtype: object"
            ]
          },
          "execution_count": 3,
          "metadata": {},
          "output_type": "execute_result"
        }
      ],
      "source": [
        "#melihat tipe data pada setiap kolom yang ada di dataset\n",
        "df.dtypes"
      ]
    },
    {
      "cell_type": "code",
      "execution_count": null,
      "id": "fce15177",
      "metadata": {
        "execution": {
          "iopub.execute_input": "2024-01-17T13:09:23.800308Z",
          "iopub.status.busy": "2024-01-17T13:09:23.799926Z",
          "iopub.status.idle": "2024-01-17T13:09:23.806398Z",
          "shell.execute_reply": "2024-01-17T13:09:23.805256Z"
        },
        "papermill": {
          "duration": 0.014522,
          "end_time": "2024-01-17T13:09:23.808598",
          "exception": false,
          "start_time": "2024-01-17T13:09:23.794076",
          "status": "completed"
        },
        "tags": [],
        "id": "fce15177",
        "outputId": "37906775-c28d-43e2-991b-6e25f1116aa6"
      },
      "outputs": [
        {
          "data": {
            "text/plain": [
              "(224, 7)"
            ]
          },
          "execution_count": 4,
          "metadata": {},
          "output_type": "execute_result"
        }
      ],
      "source": [
        "#menampilkan jumlah baris dan kolom pada dataset\n",
        "df.shape"
      ]
    },
    {
      "cell_type": "code",
      "execution_count": null,
      "id": "f772974b",
      "metadata": {
        "execution": {
          "iopub.execute_input": "2024-01-17T13:09:23.819699Z",
          "iopub.status.busy": "2024-01-17T13:09:23.819091Z",
          "iopub.status.idle": "2024-01-17T13:09:23.842622Z",
          "shell.execute_reply": "2024-01-17T13:09:23.841338Z"
        },
        "papermill": {
          "duration": 0.031916,
          "end_time": "2024-01-17T13:09:23.845047",
          "exception": false,
          "start_time": "2024-01-17T13:09:23.813131",
          "status": "completed"
        },
        "tags": [],
        "id": "f772974b",
        "outputId": "2853e126-f9be-4794-a1c2-8b01d7e989bb"
      },
      "outputs": [
        {
          "data": {
            "text/html": [
              "<div>\n",
              "<style scoped>\n",
              "    .dataframe tbody tr th:only-of-type {\n",
              "        vertical-align: middle;\n",
              "    }\n",
              "\n",
              "    .dataframe tbody tr th {\n",
              "        vertical-align: top;\n",
              "    }\n",
              "\n",
              "    .dataframe thead th {\n",
              "        text-align: right;\n",
              "    }\n",
              "</style>\n",
              "<table border=\"1\" class=\"dataframe\">\n",
              "  <thead>\n",
              "    <tr style=\"text-align: right;\">\n",
              "      <th></th>\n",
              "      <th>Provinsi</th>\n",
              "      <th>Tahun</th>\n",
              "      <th>Produksi</th>\n",
              "      <th>Luas Panen</th>\n",
              "      <th>Curah hujan</th>\n",
              "      <th>Kelembapan</th>\n",
              "      <th>Suhu rata-rata</th>\n",
              "    </tr>\n",
              "  </thead>\n",
              "  <tbody>\n",
              "    <tr>\n",
              "      <th>0</th>\n",
              "      <td>Aceh</td>\n",
              "      <td>1993</td>\n",
              "      <td>1329536.0</td>\n",
              "      <td>323589.0</td>\n",
              "      <td>1627.0</td>\n",
              "      <td>82.00</td>\n",
              "      <td>26.06</td>\n",
              "    </tr>\n",
              "    <tr>\n",
              "      <th>1</th>\n",
              "      <td>Aceh</td>\n",
              "      <td>1994</td>\n",
              "      <td>1299699.0</td>\n",
              "      <td>329041.0</td>\n",
              "      <td>1521.0</td>\n",
              "      <td>82.12</td>\n",
              "      <td>26.92</td>\n",
              "    </tr>\n",
              "    <tr>\n",
              "      <th>2</th>\n",
              "      <td>Aceh</td>\n",
              "      <td>1995</td>\n",
              "      <td>1382905.0</td>\n",
              "      <td>339253.0</td>\n",
              "      <td>1476.0</td>\n",
              "      <td>82.72</td>\n",
              "      <td>26.27</td>\n",
              "    </tr>\n",
              "    <tr>\n",
              "      <th>3</th>\n",
              "      <td>Aceh</td>\n",
              "      <td>1996</td>\n",
              "      <td>1419128.0</td>\n",
              "      <td>348223.0</td>\n",
              "      <td>1557.0</td>\n",
              "      <td>83.00</td>\n",
              "      <td>26.08</td>\n",
              "    </tr>\n",
              "    <tr>\n",
              "      <th>4</th>\n",
              "      <td>Aceh</td>\n",
              "      <td>1997</td>\n",
              "      <td>1368074.0</td>\n",
              "      <td>337561.0</td>\n",
              "      <td>1339.0</td>\n",
              "      <td>82.46</td>\n",
              "      <td>26.31</td>\n",
              "    </tr>\n",
              "  </tbody>\n",
              "</table>\n",
              "</div>"
            ],
            "text/plain": [
              "  Provinsi  Tahun   Produksi  Luas Panen  Curah hujan  Kelembapan  \\\n",
              "0     Aceh   1993  1329536.0    323589.0       1627.0       82.00   \n",
              "1     Aceh   1994  1299699.0    329041.0       1521.0       82.12   \n",
              "2     Aceh   1995  1382905.0    339253.0       1476.0       82.72   \n",
              "3     Aceh   1996  1419128.0    348223.0       1557.0       83.00   \n",
              "4     Aceh   1997  1368074.0    337561.0       1339.0       82.46   \n",
              "\n",
              "   Suhu rata-rata  \n",
              "0           26.06  \n",
              "1           26.92  \n",
              "2           26.27  \n",
              "3           26.08  \n",
              "4           26.31  "
            ]
          },
          "execution_count": 5,
          "metadata": {},
          "output_type": "execute_result"
        }
      ],
      "source": [
        "#menampilkan 5 baris teratas yang terdapat pada dataset\n",
        "df.head()"
      ]
    },
    {
      "cell_type": "code",
      "execution_count": null,
      "id": "cc50bf51",
      "metadata": {
        "execution": {
          "iopub.execute_input": "2024-01-17T13:09:23.857559Z",
          "iopub.status.busy": "2024-01-17T13:09:23.857099Z",
          "iopub.status.idle": "2024-01-17T13:09:23.872456Z",
          "shell.execute_reply": "2024-01-17T13:09:23.871311Z"
        },
        "papermill": {
          "duration": 0.02467,
          "end_time": "2024-01-17T13:09:23.874861",
          "exception": false,
          "start_time": "2024-01-17T13:09:23.850191",
          "status": "completed"
        },
        "tags": [],
        "id": "cc50bf51",
        "outputId": "26b33b65-88eb-45de-f358-6c280dffc433"
      },
      "outputs": [
        {
          "data": {
            "text/html": [
              "<div>\n",
              "<style scoped>\n",
              "    .dataframe tbody tr th:only-of-type {\n",
              "        vertical-align: middle;\n",
              "    }\n",
              "\n",
              "    .dataframe tbody tr th {\n",
              "        vertical-align: top;\n",
              "    }\n",
              "\n",
              "    .dataframe thead th {\n",
              "        text-align: right;\n",
              "    }\n",
              "</style>\n",
              "<table border=\"1\" class=\"dataframe\">\n",
              "  <thead>\n",
              "    <tr style=\"text-align: right;\">\n",
              "      <th></th>\n",
              "      <th>Provinsi</th>\n",
              "      <th>Tahun</th>\n",
              "      <th>Produksi</th>\n",
              "      <th>Luas Panen</th>\n",
              "      <th>Curah hujan</th>\n",
              "      <th>Kelembapan</th>\n",
              "      <th>Suhu rata-rata</th>\n",
              "    </tr>\n",
              "  </thead>\n",
              "  <tbody>\n",
              "    <tr>\n",
              "      <th>219</th>\n",
              "      <td>Lampung</td>\n",
              "      <td>2016</td>\n",
              "      <td>3831923.00</td>\n",
              "      <td>390799.00</td>\n",
              "      <td>2317.6</td>\n",
              "      <td>79.40</td>\n",
              "      <td>26.45</td>\n",
              "    </tr>\n",
              "    <tr>\n",
              "      <th>220</th>\n",
              "      <td>Lampung</td>\n",
              "      <td>2017</td>\n",
              "      <td>4090654.00</td>\n",
              "      <td>396559.00</td>\n",
              "      <td>1825.1</td>\n",
              "      <td>77.04</td>\n",
              "      <td>26.36</td>\n",
              "    </tr>\n",
              "    <tr>\n",
              "      <th>221</th>\n",
              "      <td>Lampung</td>\n",
              "      <td>2018</td>\n",
              "      <td>2488641.91</td>\n",
              "      <td>511940.93</td>\n",
              "      <td>1385.8</td>\n",
              "      <td>76.05</td>\n",
              "      <td>25.50</td>\n",
              "    </tr>\n",
              "    <tr>\n",
              "      <th>222</th>\n",
              "      <td>Lampung</td>\n",
              "      <td>2019</td>\n",
              "      <td>2164089.33</td>\n",
              "      <td>464103.42</td>\n",
              "      <td>1706.4</td>\n",
              "      <td>78.03</td>\n",
              "      <td>27.23</td>\n",
              "    </tr>\n",
              "    <tr>\n",
              "      <th>223</th>\n",
              "      <td>Lampung</td>\n",
              "      <td>2020</td>\n",
              "      <td>2604913.29</td>\n",
              "      <td>545149.05</td>\n",
              "      <td>2211.3</td>\n",
              "      <td>75.80</td>\n",
              "      <td>24.58</td>\n",
              "    </tr>\n",
              "  </tbody>\n",
              "</table>\n",
              "</div>"
            ],
            "text/plain": [
              "    Provinsi  Tahun    Produksi  Luas Panen  Curah hujan  Kelembapan  \\\n",
              "219  Lampung   2016  3831923.00   390799.00       2317.6       79.40   \n",
              "220  Lampung   2017  4090654.00   396559.00       1825.1       77.04   \n",
              "221  Lampung   2018  2488641.91   511940.93       1385.8       76.05   \n",
              "222  Lampung   2019  2164089.33   464103.42       1706.4       78.03   \n",
              "223  Lampung   2020  2604913.29   545149.05       2211.3       75.80   \n",
              "\n",
              "     Suhu rata-rata  \n",
              "219           26.45  \n",
              "220           26.36  \n",
              "221           25.50  \n",
              "222           27.23  \n",
              "223           24.58  "
            ]
          },
          "execution_count": 6,
          "metadata": {},
          "output_type": "execute_result"
        }
      ],
      "source": [
        "df.tail()"
      ]
    },
    {
      "cell_type": "code",
      "execution_count": null,
      "id": "ae258168",
      "metadata": {
        "execution": {
          "iopub.execute_input": "2024-01-17T13:09:23.886392Z",
          "iopub.status.busy": "2024-01-17T13:09:23.886014Z",
          "iopub.status.idle": "2024-01-17T13:09:23.893144Z",
          "shell.execute_reply": "2024-01-17T13:09:23.891958Z"
        },
        "papermill": {
          "duration": 0.015851,
          "end_time": "2024-01-17T13:09:23.895673",
          "exception": false,
          "start_time": "2024-01-17T13:09:23.879822",
          "status": "completed"
        },
        "tags": [],
        "id": "ae258168",
        "outputId": "60578fcc-db8e-4b2e-fa3e-6722e761866a"
      },
      "outputs": [
        {
          "data": {
            "text/plain": [
              "Index(['Provinsi', 'Tahun', 'Produksi', 'Luas Panen', 'Curah hujan',\n",
              "       'Kelembapan', 'Suhu rata-rata'],\n",
              "      dtype='object')"
            ]
          },
          "execution_count": 7,
          "metadata": {},
          "output_type": "execute_result"
        }
      ],
      "source": [
        "#menampilkan nama kolom yang ada pada dataset\n",
        "df.columns"
      ]
    },
    {
      "cell_type": "code",
      "execution_count": null,
      "id": "d8a8f412",
      "metadata": {
        "execution": {
          "iopub.execute_input": "2024-01-17T13:09:23.908952Z",
          "iopub.status.busy": "2024-01-17T13:09:23.908532Z",
          "iopub.status.idle": "2024-01-17T13:09:23.925842Z",
          "shell.execute_reply": "2024-01-17T13:09:23.924731Z"
        },
        "papermill": {
          "duration": 0.026263,
          "end_time": "2024-01-17T13:09:23.928188",
          "exception": false,
          "start_time": "2024-01-17T13:09:23.901925",
          "status": "completed"
        },
        "tags": [],
        "id": "d8a8f412",
        "outputId": "d6c7b94a-f102-40a4-911e-53b5cf111ab5"
      },
      "outputs": [
        {
          "data": {
            "text/plain": [
              "0"
            ]
          },
          "execution_count": 8,
          "metadata": {},
          "output_type": "execute_result"
        }
      ],
      "source": [
        "#mengecek duplikat entries\n",
        "df.duplicated().sum()"
      ]
    },
    {
      "cell_type": "code",
      "execution_count": null,
      "id": "009131a2",
      "metadata": {
        "execution": {
          "iopub.execute_input": "2024-01-17T13:09:23.940427Z",
          "iopub.status.busy": "2024-01-17T13:09:23.940017Z",
          "iopub.status.idle": "2024-01-17T13:09:23.948326Z",
          "shell.execute_reply": "2024-01-17T13:09:23.947121Z"
        },
        "papermill": {
          "duration": 0.01732,
          "end_time": "2024-01-17T13:09:23.950755",
          "exception": false,
          "start_time": "2024-01-17T13:09:23.933435",
          "status": "completed"
        },
        "tags": [],
        "id": "009131a2",
        "outputId": "f29cb27c-1c62-4906-a03a-41e4d1be1ea6"
      },
      "outputs": [
        {
          "data": {
            "text/plain": [
              "Provinsi          0\n",
              "Tahun             0\n",
              "Produksi          0\n",
              "Luas Panen        0\n",
              "Curah hujan       0\n",
              "Kelembapan        0\n",
              "Suhu rata-rata    0\n",
              "dtype: int64"
            ]
          },
          "execution_count": 9,
          "metadata": {},
          "output_type": "execute_result"
        }
      ],
      "source": [
        "#check for missing values\n",
        "df.isnull().sum()"
      ]
    },
    {
      "cell_type": "code",
      "execution_count": null,
      "id": "f2aa5fc6",
      "metadata": {
        "execution": {
          "iopub.execute_input": "2024-01-17T13:09:23.963534Z",
          "iopub.status.busy": "2024-01-17T13:09:23.963126Z",
          "iopub.status.idle": "2024-01-17T13:09:23.971900Z",
          "shell.execute_reply": "2024-01-17T13:09:23.971015Z"
        },
        "papermill": {
          "duration": 0.017713,
          "end_time": "2024-01-17T13:09:23.974274",
          "exception": false,
          "start_time": "2024-01-17T13:09:23.956561",
          "status": "completed"
        },
        "tags": [],
        "id": "f2aa5fc6",
        "outputId": "987d280b-3f62-41b5-d1e6-af2a2359446d"
      },
      "outputs": [
        {
          "data": {
            "text/plain": [
              "Provinsi              Aceh\n",
              "Tahun                 1993\n",
              "Produksi           42938.0\n",
              "Luas Panen        63142.04\n",
              "Curah hujan          222.5\n",
              "Kelembapan            54.2\n",
              "Suhu rata-rata       22.19\n",
              "dtype: object"
            ]
          },
          "execution_count": 10,
          "metadata": {},
          "output_type": "execute_result"
        }
      ],
      "source": [
        "#check the minimum value\n",
        "df.min()"
      ]
    },
    {
      "cell_type": "code",
      "execution_count": null,
      "id": "1921fe75",
      "metadata": {
        "execution": {
          "iopub.execute_input": "2024-01-17T13:09:23.987859Z",
          "iopub.status.busy": "2024-01-17T13:09:23.987446Z",
          "iopub.status.idle": "2024-01-17T13:09:23.996225Z",
          "shell.execute_reply": "2024-01-17T13:09:23.995219Z"
        },
        "papermill": {
          "duration": 0.018344,
          "end_time": "2024-01-17T13:09:23.998663",
          "exception": false,
          "start_time": "2024-01-17T13:09:23.980319",
          "status": "completed"
        },
        "tags": [],
        "id": "1921fe75",
        "outputId": "dd7cf301-8886-43bc-a8a0-368d37643f43"
      },
      "outputs": [
        {
          "data": {
            "text/plain": [
              "Provinsi          Sumatera Utara\n",
              "Tahun                       2020\n",
              "Produksi               4881089.0\n",
              "Luas Panen              872737.0\n",
              "Curah hujan               5522.0\n",
              "Kelembapan                  90.6\n",
              "Suhu rata-rata             29.85\n",
              "dtype: object"
            ]
          },
          "execution_count": 11,
          "metadata": {},
          "output_type": "execute_result"
        }
      ],
      "source": [
        "#check the maximum value\n",
        "df.max()"
      ]
    },
    {
      "cell_type": "code",
      "execution_count": null,
      "id": "c8f6b23f",
      "metadata": {
        "execution": {
          "iopub.execute_input": "2024-01-17T13:09:24.012122Z",
          "iopub.status.busy": "2024-01-17T13:09:24.011733Z",
          "iopub.status.idle": "2024-01-17T13:09:24.033227Z",
          "shell.execute_reply": "2024-01-17T13:09:24.031823Z"
        },
        "papermill": {
          "duration": 0.031167,
          "end_time": "2024-01-17T13:09:24.035943",
          "exception": false,
          "start_time": "2024-01-17T13:09:24.004776",
          "status": "completed"
        },
        "tags": [],
        "id": "c8f6b23f",
        "outputId": "d7a0612b-964d-4cb9-aa5d-4853ec57f9d0"
      },
      "outputs": [
        {
          "data": {
            "text/html": [
              "<div>\n",
              "<style scoped>\n",
              "    .dataframe tbody tr th:only-of-type {\n",
              "        vertical-align: middle;\n",
              "    }\n",
              "\n",
              "    .dataframe tbody tr th {\n",
              "        vertical-align: top;\n",
              "    }\n",
              "\n",
              "    .dataframe thead th {\n",
              "        text-align: right;\n",
              "    }\n",
              "</style>\n",
              "<table border=\"1\" class=\"dataframe\">\n",
              "  <thead>\n",
              "    <tr style=\"text-align: right;\">\n",
              "      <th></th>\n",
              "      <th>Provinsi</th>\n",
              "      <th>Tahun</th>\n",
              "      <th>Produksi</th>\n",
              "      <th>Luas Panen</th>\n",
              "      <th>Curah hujan</th>\n",
              "      <th>Kelembapan</th>\n",
              "      <th>Suhu rata-rata</th>\n",
              "    </tr>\n",
              "  </thead>\n",
              "  <tbody>\n",
              "    <tr>\n",
              "      <th>0</th>\n",
              "      <td>Aceh</td>\n",
              "      <td>1993</td>\n",
              "      <td>1329536.00</td>\n",
              "      <td>323589.00</td>\n",
              "      <td>1627.0</td>\n",
              "      <td>82.00</td>\n",
              "      <td>26.06</td>\n",
              "    </tr>\n",
              "    <tr>\n",
              "      <th>1</th>\n",
              "      <td>Aceh</td>\n",
              "      <td>1994</td>\n",
              "      <td>1299699.00</td>\n",
              "      <td>329041.00</td>\n",
              "      <td>1521.0</td>\n",
              "      <td>82.12</td>\n",
              "      <td>26.92</td>\n",
              "    </tr>\n",
              "    <tr>\n",
              "      <th>2</th>\n",
              "      <td>Aceh</td>\n",
              "      <td>1995</td>\n",
              "      <td>1382905.00</td>\n",
              "      <td>339253.00</td>\n",
              "      <td>1476.0</td>\n",
              "      <td>82.72</td>\n",
              "      <td>26.27</td>\n",
              "    </tr>\n",
              "    <tr>\n",
              "      <th>3</th>\n",
              "      <td>Aceh</td>\n",
              "      <td>1996</td>\n",
              "      <td>1419128.00</td>\n",
              "      <td>348223.00</td>\n",
              "      <td>1557.0</td>\n",
              "      <td>83.00</td>\n",
              "      <td>26.08</td>\n",
              "    </tr>\n",
              "    <tr>\n",
              "      <th>4</th>\n",
              "      <td>Aceh</td>\n",
              "      <td>1997</td>\n",
              "      <td>1368074.00</td>\n",
              "      <td>337561.00</td>\n",
              "      <td>1339.0</td>\n",
              "      <td>82.46</td>\n",
              "      <td>26.31</td>\n",
              "    </tr>\n",
              "    <tr>\n",
              "      <th>...</th>\n",
              "      <td>...</td>\n",
              "      <td>...</td>\n",
              "      <td>...</td>\n",
              "      <td>...</td>\n",
              "      <td>...</td>\n",
              "      <td>...</td>\n",
              "      <td>...</td>\n",
              "    </tr>\n",
              "    <tr>\n",
              "      <th>219</th>\n",
              "      <td>Lampung</td>\n",
              "      <td>2016</td>\n",
              "      <td>3831923.00</td>\n",
              "      <td>390799.00</td>\n",
              "      <td>2317.6</td>\n",
              "      <td>79.40</td>\n",
              "      <td>26.45</td>\n",
              "    </tr>\n",
              "    <tr>\n",
              "      <th>220</th>\n",
              "      <td>Lampung</td>\n",
              "      <td>2017</td>\n",
              "      <td>4090654.00</td>\n",
              "      <td>396559.00</td>\n",
              "      <td>1825.1</td>\n",
              "      <td>77.04</td>\n",
              "      <td>26.36</td>\n",
              "    </tr>\n",
              "    <tr>\n",
              "      <th>221</th>\n",
              "      <td>Lampung</td>\n",
              "      <td>2018</td>\n",
              "      <td>2488641.91</td>\n",
              "      <td>511940.93</td>\n",
              "      <td>1385.8</td>\n",
              "      <td>76.05</td>\n",
              "      <td>25.50</td>\n",
              "    </tr>\n",
              "    <tr>\n",
              "      <th>222</th>\n",
              "      <td>Lampung</td>\n",
              "      <td>2019</td>\n",
              "      <td>2164089.33</td>\n",
              "      <td>464103.42</td>\n",
              "      <td>1706.4</td>\n",
              "      <td>78.03</td>\n",
              "      <td>27.23</td>\n",
              "    </tr>\n",
              "    <tr>\n",
              "      <th>223</th>\n",
              "      <td>Lampung</td>\n",
              "      <td>2020</td>\n",
              "      <td>2604913.29</td>\n",
              "      <td>545149.05</td>\n",
              "      <td>2211.3</td>\n",
              "      <td>75.80</td>\n",
              "      <td>24.58</td>\n",
              "    </tr>\n",
              "  </tbody>\n",
              "</table>\n",
              "<p>224 rows × 7 columns</p>\n",
              "</div>"
            ],
            "text/plain": [
              "    Provinsi  Tahun    Produksi  Luas Panen  Curah hujan  Kelembapan  \\\n",
              "0       Aceh   1993  1329536.00   323589.00       1627.0       82.00   \n",
              "1       Aceh   1994  1299699.00   329041.00       1521.0       82.12   \n",
              "2       Aceh   1995  1382905.00   339253.00       1476.0       82.72   \n",
              "3       Aceh   1996  1419128.00   348223.00       1557.0       83.00   \n",
              "4       Aceh   1997  1368074.00   337561.00       1339.0       82.46   \n",
              "..       ...    ...         ...         ...          ...         ...   \n",
              "219  Lampung   2016  3831923.00   390799.00       2317.6       79.40   \n",
              "220  Lampung   2017  4090654.00   396559.00       1825.1       77.04   \n",
              "221  Lampung   2018  2488641.91   511940.93       1385.8       76.05   \n",
              "222  Lampung   2019  2164089.33   464103.42       1706.4       78.03   \n",
              "223  Lampung   2020  2604913.29   545149.05       2211.3       75.80   \n",
              "\n",
              "     Suhu rata-rata  \n",
              "0             26.06  \n",
              "1             26.92  \n",
              "2             26.27  \n",
              "3             26.08  \n",
              "4             26.31  \n",
              "..              ...  \n",
              "219           26.45  \n",
              "220           26.36  \n",
              "221           25.50  \n",
              "222           27.23  \n",
              "223           24.58  \n",
              "\n",
              "[224 rows x 7 columns]"
            ]
          },
          "execution_count": 12,
          "metadata": {},
          "output_type": "execute_result"
        }
      ],
      "source": [
        "df"
      ]
    },
    {
      "cell_type": "markdown",
      "id": "14151c94",
      "metadata": {
        "papermill": {
          "duration": 0.005975,
          "end_time": "2024-01-17T13:09:24.048295",
          "exception": false,
          "start_time": "2024-01-17T13:09:24.042320",
          "status": "completed"
        },
        "tags": [],
        "id": "14151c94"
      },
      "source": [
        "Explore Data Analyst"
      ]
    },
    {
      "cell_type": "code",
      "execution_count": null,
      "id": "bc5a3b9a",
      "metadata": {
        "execution": {
          "iopub.execute_input": "2024-01-17T13:09:24.062214Z",
          "iopub.status.busy": "2024-01-17T13:09:24.061822Z",
          "iopub.status.idle": "2024-01-17T13:09:24.069361Z",
          "shell.execute_reply": "2024-01-17T13:09:24.068079Z"
        },
        "papermill": {
          "duration": 0.017721,
          "end_time": "2024-01-17T13:09:24.071910",
          "exception": false,
          "start_time": "2024-01-17T13:09:24.054189",
          "status": "completed"
        },
        "tags": [],
        "id": "bc5a3b9a",
        "outputId": "004c4749-a4a0-463b-c709-d7739f64df49"
      },
      "outputs": [
        {
          "data": {
            "text/plain": [
              "Index(['Provinsi', 'Tahun', 'Produksi', 'Luas Panen', 'Curah hujan',\n",
              "       'Kelembapan', 'Suhu rata-rata'],\n",
              "      dtype='object')"
            ]
          },
          "execution_count": 13,
          "metadata": {},
          "output_type": "execute_result"
        }
      ],
      "source": [
        "df.columns"
      ]
    },
    {
      "cell_type": "code",
      "execution_count": null,
      "id": "e64a2bbf",
      "metadata": {
        "execution": {
          "iopub.execute_input": "2024-01-17T13:09:24.085832Z",
          "iopub.status.busy": "2024-01-17T13:09:24.085404Z",
          "iopub.status.idle": "2024-01-17T13:09:25.896533Z",
          "shell.execute_reply": "2024-01-17T13:09:25.895730Z"
        },
        "papermill": {
          "duration": 1.82226,
          "end_time": "2024-01-17T13:09:25.900239",
          "exception": false,
          "start_time": "2024-01-17T13:09:24.077979",
          "status": "completed"
        },
        "tags": [],
        "id": "e64a2bbf",
        "outputId": "e85f7a3f-cd37-440a-96e4-8514f5d22d8f"
      },
      "outputs": [
        {
          "data": {
            "image/png": "[encoded data removed]",
            "text/plain": [
              "<Figure size 1500x600 with 1 Axes>"
            ]
          },
          "metadata": {},
          "output_type": "display_data"
        }
      ],
      "source": [
        "plt.figure(figsize=(15,6))\n",
        "sns.pointplot(x=\"Tahun\", y=\"Produksi\", hue=\"Provinsi\", data=df)\n",
        "plt.show()"
      ]
    }
  ],
  "metadata": {
    "kaggle": {
      "accelerator": "none",
      "dataSources": [
        {
          "datasetId": 2721769,
          "sourceId": 4704695,
          "sourceType": "datasetVersion"
        }
      ],
      "dockerImageVersionId": 30635,
      "isGpuEnabled": false,
      "isInternetEnabled": false,
      "language": "python",
      "sourceType": "notebook"
    },
    "kernelspec": {
      "display_name": "Python 3",
      "language": "python",
      "name": "python3"
    },
    "language_info": {
      "codemirror_mode": {
        "name": "ipython",
        "version": 3
      },
      "file_extension": ".py",
      "mimetype": "text/x-python",
      "name": "python",
      "nbconvert_exporter": "python",
      "pygments_lexer": "ipython3",
      "version": "3.10.12"
    },
    "papermill": {
      "default_parameters": {},
      "duration": 7.801985,
      "end_time": "2024-01-17T13:09:26.530490",
      "environment_variables": {},
      "exception": null,
      "input_path": "__notebook__.ipynb",
      "output_path": "__notebook__.ipynb",
      "parameters": {},
      "start_time": "2024-01-17T13:09:18.728505",
      "version": "2.4.0"
    },
    "colab": {
      "provenance": [],
      "include_colab_link": true
    }
  },
  "nbformat": 4,
  "nbformat_minor": 5
}